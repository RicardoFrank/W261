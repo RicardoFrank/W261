{
 "cells": [
  {
   "cell_type": "markdown",
   "metadata": {},
   "source": [
    "Ricardo Frank Barrera\n",
    "Started @ 4:30 PM PST\n",
    "\n",
    "MIDS Machine Learning at Scale End of Term exam, Week 15, Spring, 2016\n",
    "\n",
    "===Exam Schedule  (All times are in California Time)===\n",
    "\n",
    " 4:00 PM - 6:00 PM \n",
    "\n",
    "Exam location is at:\n",
    "\n",
    "    https://www.dropbox.com/s/k9mw3rnr86iktk6/MIDS-MLS-End-of-Term-2016-Spring-2016-04-27-Published.txt?dl=0\n",
    "===Instructions for exam ===\n",
    "\n",
    "Instructions:\n",
    " \n",
    "Within 2 hours of receiving my email can you  email me with two attachments:  \n",
    "-- ipython notebook that you use for calculations\n",
    "-- your end of term responses using  the following format. \n",
    "\n",
    "ET1:a,c,\n",
    "ET2:d\n",
    "ET3:c\n",
    "..... \n",
    "\n",
    "And complete exam submission form (http://goo.gl/forms/ggNYfRXz0t).\n",
    "\n",
    "Good luck,\n",
    "Jimi\n",
    "\n",
    "1: Please acknowledge receipt of exam by sending a quick reply to the instructors\n",
    "2: Review the submission form first to scope it out (it will take a 5-10 minutes to input your \n",
    "   answers and other information into this form)\n",
    "3: Please keep all your work and responses in ONE (1) notebook only (and submit via the form)\n",
    "4: Please make sure that the NBViewer link for your Submission notebook works\n",
    "5: Please do NOT discuss this exam with anyone (including your class mates) until after 8AM (West coast time) Friday, April 29, 2016 \n",
    "6: This is a take home exam. Please complete by yourself without assistance from others.\n",
    "\n",
    "Please use your live session time from week 8 to complete this mid term \n",
    "(plus an additional 30 minutes if you need it). \n",
    "This is an open book exam meaning you can consult webpages and textbooks \n",
    "(but not each other or other people). Please complete this exam by yourself.\n",
    "\n",
    "Please submit your solutions and notebook via the following form:\n",
    "\n",
    "      http://goo.gl/forms/ggNYfRXz0t\n",
    "\n"
   ]
  },
  {
   "cell_type": "markdown",
   "metadata": {},
   "source": [
    "=====Exam questions begins here=====\n",
    "\n",
    "**===== ET:1  Using one-hot-encoding, a categorical feature with four distinct values would be represented by how many features?**\n",
    "\n",
    "(a) 1 feature <br>\n",
    "(b) 2 features <br>\n",
    "(c) 4 features <br>\n",
    "(d) none of the above <br>\n",
    "\n",
    "**C, as each potential value gets its own dimension which is why one-hot-encoding is sparse and sometimes expensive**\n"
   ]
  },
  {
   "cell_type": "markdown",
   "metadata": {},
   "source": [
    "\n",
    "**===== ET:2 In the following (and also referring to HW12: http://nbviewer.jupyter.org/urls/dl.dropbox.com/s/1wb2rdqbet54y1h/MIDS-MLS-Project-Criteo-CTR.ipynb) we have hashed the three sample points using numBuckets=4 and numBuckets=100. Complete the three statements below about these hashed features summarized in the following table using each answer once.**\n",
    "\n",
    "Name\t              Raw Features\t                       4 Buckets\t        100 Buckets\n",
    "sampleOne\t[(0, 'mouse'), (1, 'black')]\t            {2: 1.0, 3: 1.0}\t{14: 1.0, 31: 1.0}\n",
    "sampleTwo\t[(0, 'cat'), (1, 'tabby'), (2, 'mouse')]\t{0: 2.0, 2: 1.0}\t{40: 1.0, 16: 1.0, 62: 1.0}\n",
    "sampleThree\t[(0, 'bear'), (1, 'black'), (2, 'salmon')\t{0: 1.0, 1: 1.0, 2: 1.0}\t{72: 1.0, 5: 1.0, 14: 1.0}\n",
    "\n",
    "**With 100 buckets, sampleOne and sampleThree both contain index 14 due to __________.\n",
    "\n",
    "(a) A hash collision <br>\n",
    "(b) Underlying properties of the data <br>\n",
    "(c) The fact that used 100 buckets <br>\n",
    "(d) none of the above <br>\n",
    "\n",
    "**B, since both contain (1, 'black')**"
   ]
  },
  {
   "cell_type": "markdown",
   "metadata": {},
   "source": [
    "**===== ET:3 In the following (and also referring to HW12: http://nbviewer.jupyter.org/urls/dl.dropbox.com/s/1wb2rdqbet54y1h/MIDS-MLS-Project-Criteo-CTR.ipynb) we have hashed the three sample points using numBuckets=4 and numBuckets=100. Complete the three statements below about these hashed features summarized in the following table using each answer once.**\n",
    "\n",
    "Name\t              Raw Features\t                       4 Buckets\t        100 Buckets\n",
    "sampleOne\t[(0, 'mouse'), (1, 'black')]\t            {2: 1.0, 3: 1.0}\t{14: 1.0, 31: 1.0}\n",
    "sampleTwo\t[(0, 'cat'), (1, 'tabby'), (2, 'mouse')]\t{0: 2.0, 2: 1.0}\t{40: 1.0, 16: 1.0, 62: 1.0}\n",
    "sampleThree\t[(0, 'bear'), (1, 'black'), (2, 'salmon')\t{0: 1.0, 1: 1.0, 2: 1.0}\t{72: 1.0, 5: 1.0, 14: 1.0}\n",
    "\n",
    "It is likely that sampleTwo has two indices with 4 buckets, but three indices with 100 buckets due to __________.\n",
    "\n",
    "(a) A hash collision\n",
    "(b) Underlying properties of the data\n",
    "(c) The fact that we go from 4 to 100 buckets\n",
    "(d) none of the above\n",
    "\n",
    "**A, C since two of the raw features map to the same number with 4 buckets, which disappears when we have 100 buckets**"
   ]
  },
  {
   "cell_type": "markdown",
   "metadata": {},
   "source": [
    "**===== ET:4 In the following (and also referring to HW12: http://nbviewer.jupyter.org/urls/dl.dropbox.com/s/1wb2rdqbet54y1h/MIDS-MLS-Project-Criteo-CTR.ipynb) we have hashed the three sample points using numBuckets=4 and numBuckets=100. Complete the three statements below about these hashed features summarized in the following table using each answer once.**\n",
    "\n",
    "Name\t              Raw Features\t                       4 Buckets\t        100 Buckets\n",
    "sampleOne\t[(0, 'mouse'), (1, 'black')]\t            {2: 1.0, 3: 1.0}\t{14: 1.0, 31: 1.0}\n",
    "sampleTwo\t[(0, 'cat'), (1, 'tabby'), (2, 'mouse')]\t{0: 2.0, 2: 1.0}\t{40: 1.0, 16: 1.0, 62: 1.0}\n",
    "sampleThree\t[(0, 'bear'), (1, 'black'), (2, 'salmon')\t{0: 1.0, 1: 1.0, 2: 1.0}\t{72: 1.0, 5: 1.0, 14: 1.0}\n",
    "\n",
    "With 4 buckets, sampleTwo and sampleThree both contain index 0 due to __________.\n",
    "\n",
    "(a) A hash collision\n",
    "(b) Underlying properties of the data\n",
    "(c) The fact that we use 4 buckets\n",
    "(d) none of the above\n",
    "\n",
    "**A, C since there is still a collision which makes sense because we have 4 buckets but 6 unique (feature, category) tuples being mapped.  So, we should expect at least 4 to collide (pairs mapping together) and 2 to not collide.**"
   ]
  },
  {
   "cell_type": "markdown",
   "metadata": {},
   "source": [
    "**===== ET:5  When applying numerical machine learning approaches (and for non-numerical approaches if required) to big data problems which of the following steps are could be used during modeling and are recommended:**\n",
    "\n",
    "(a) Convert categorical features to numerical features via one-hot-encoding and store in a dense representation\n",
    "(b) Transform  categorical features using hashing regardless of how many unique categorical values exist in training and test data\n",
    "(c) Use matrix factorization to remap your input vectors to latent concepts\n",
    "(d) none of the above\n",
    "\n",
    "**C, because techniques like PCA allow us to see potential relationships between dimensions not easily apparent with the original vector space**"
   ]
  },
  {
   "cell_type": "markdown",
   "metadata": {},
   "source": [
    "**===== ET:6 When dealing with numercial data which of the following are ways to deal with missing data:**\n",
    "\n",
    "(a) Delete records that have missing input values <br>\n",
    "(b) Standardize the data and set all missing values to 1 (one) <br>\n",
    "(c) Use K-nearest neighbours based on the test set to fill in missing values in the training set <br> \n",
    "(d) none of the above <br>\n",
    "\n",
    "\n",
    "**A, B, and C are all ways to deal with missing data, but A and B are not the best methods since throwing away data and ignorantly filling missing data isn't preferable, and C is problematic because you're mixing your test and training data.  All three suck, but they are technically ways to do it.** \n"
   ]
  },
  {
   "cell_type": "markdown",
   "metadata": {},
   "source": [
    "**===== ET:7 In the Criteo project, we're trying to predict what:**\n",
    "\n",
    "(a) Revenue from click events <br>\n",
    "(b) Click-through vs not click event <br>\n",
    "(c) Probability of a click event <br>\n",
    "(d) none of the above <br>\n",
    "\n",
    "**B**\n",
    "\n",
    "\n"
   ]
  },
  {
   "cell_type": "markdown",
   "metadata": {},
   "source": [
    "**===== ET:8 Which of the following are true about the purpose of a loss function?**\n",
    "\n",
    "(a) It’s a way to penalize a model for incorrect predictions <br>\n",
    "(b) It precisely defines the optimization problem to be solved for a particular learning model <br>\n",
    "(c) Loss functions can be used for modeling both classification and regression problems <br>\n",
    "(d) none of the above <br>\n",
    "\n",
    "**A, B, C**"
   ]
  },
  {
   "cell_type": "markdown",
   "metadata": {},
   "source": [
    "**===== ET:9: When implementing Logistic Regression with Regularization in Spark which of the following apply**\n",
    "\n",
    "(a) When lambda equals one, it provides the same result as standard logistic regression  \n",
    "(b) One only needs to modify the standard logistic regression by modifying the Mapper   \n",
    "(c) Can be framed as minimizing a convex function <br>\n",
    "(d) none of the above\n",
    "\n",
    "**C, because this is required for gradient descent to find the globally optimal weights**"
   ]
  },
  {
   "cell_type": "markdown",
   "metadata": {},
   "source": [
    "**===== ET:10 In the context of ecommerce you have just deployed a new conversion rate prediction model to production. This model (aka treatment model) will challenge the control nodel (i.e., the current model) in AB Test manner to see if it can be produce better revenue. Here is the data that was taken from this live AB Test.** \n",
    "\n",
    "CONTROL MODEL (our old CTR model)\n",
    "Impression ID   Revenue  \n",
    "1                $0.50\n",
    "2                $0.50\n",
    "3                $3.00\n",
    "......               \n",
    "20000            $3.00\n",
    "20001            $3.00\n",
    "3                $3.00\n",
    "3                $3.00\n",
    "......\n",
    "50,001           $3.00\n",
    ".....\n",
    "100,000          $4.00\n",
    "\n",
    "All other impressions in this 100,000 sample resulted in zero transactions and therefore zero revenue. \n",
    "\n",
    "TREATMENT MODEL (our new CTR model)\n",
    "Impression ID   Revenue  \n",
    "1                $1.50\n",
    "2                $0.50\n",
    "3                $0.00\n",
    "......\n",
    "50,001           $3.00\n",
    ".....\n",
    "100,000          $4.00\n",
    "\n",
    "All other impressions in this 100,000 sample resulted in zero transactions and therefore zero revenue. \n",
    "\n",
    "\n",
    "P-values are a common way to determine the statistical significance of a test. The smaller it is, the more confident you can be that the test results are due to something other than random chance.\n",
    "A common p-value of .05 is a 5% significance level. Similarly, a p-value of .01 is a 1% significance level. A p-value of .20 is a 20% significance level. For this problem set the p-value to 0.01\n",
    "\n",
    "\n",
    "Which of the following are true:\n",
    "\n",
    "(a) Based on revenue there is no statistical significant difference between the Control and the Treatment at p-value of 0.05 for a one-sided t-test <br>\n",
    "(b) Based on transaction rates (tranactions that generated revenue versus not) there is no statistical significant difference between the Control and the Treatment at p-value of 0.05 for a one-sided t-test <br>\n",
    "\n",
    "(c) AB testing using differences in revenue for this problem is a  useful means of determining if the Treatment conversion rate prediction model is better than the control model. <br>\n",
    "(d) none of the above <br>\n",
    "\n",
    "**B, C are true.  A is false because the z_score is -1.68 which implies the treatment is statistically significantly worse than the control, and the critical for the one-tailed test is +/- 1.64**\n"
   ]
  },
  {
   "cell_type": "markdown",
   "metadata": {},
   "source": [
    "**===== ET:11 Given this graph expressed in the form of an adjacency list,**\n",
    "\n",
    "Node  adjacentNode:weightAssociatedWithEdge <br>\n",
    "N1    N6:10,  N2:2<br>\n",
    "N2    N3:1<br>\n",
    "N3    N4:1<br>\n",
    "N4    N5:1<br>\n",
    "N5    N6:1<br>\n",
    "N6    N7:1<br>\n",
    "N7    N8:1<br>\n",
    "N8    N9:1<br>\n",
    "\n",
    "Using the parallel breadth-first search algorithm for determining the shortest path from a single source, how many iterations are required to discover the shortest distances to all nodes from Node 1 \n",
    "\n",
    "A 7  <br>\n",
    "B 8   <br>\n",
    "C 13 <br>\n",
    "D None of the above <br>\n",
    "\n",
    "**D, it would take 4 because we are not considering path-length for discovery--just iterations.**\n",
    "\n",
    "**Iter 1: N1 discovers N6, N2 <br>\n",
    "Iter 2: N6 discovers N5, N7 and N2 discovers N3 <br>\n",
    "Iter 3: N3 and N4 discover N4, and N7 discovers N8 <br>\n",
    "Iter 4: N8 discovers N9 <br>\n",
    "**"
   ]
  },
  {
   "cell_type": "markdown",
   "metadata": {},
   "source": [
    "**===== ET:12 When parallelizing support vector machines and related algorithms in map-reduce frameworks, which of the following statements are true:**\n",
    "\n",
    "(a) In the context of support vector machines, nonlinear kernels such as quadratic kernels can be readily parallelized in map reduce frameworks such as Spark <br>\n",
    "(b) In the context of support vector machines, linear kernels can be readily parallelized in map reduce frameworks such as Spark <br>\n",
    "(c) Sequential learning via algorithms such perceptron can take advantage of map-reduce frameworks and yield the same results as a single core implementation with significant reductions in training time <br>\n",
    "(d) Field-aware Factorization Machines can easily distributed to take advantage of map-reduce frameworks <br>\n",
    "\n",
    "\n",
    "**C and D.  SVMs are hard to scale.**\n",
    "\n"
   ]
  },
  {
   "cell_type": "markdown",
   "metadata": {},
   "source": [
    "**===== ET:13 Given the following paired RDDs **\n",
    "RDD1 = {(1, 2), (3, 4), (3, 6)}\n",
    "RDD2 = {(3, 9) (3, 6)}\n",
    "\n",
    "Using PySpark, write code to perform an inner join of these paired RDDs. What is the resulting RDD? Make your Spark available in your notebook:\n",
    "\n",
    "A: [(3, (4, 9)), (3, (6, 9))] <br>\n",
    "B: [(3, (4, 9)), (3, (4, 6)), (3, (6, 9)), (3, (6, 6))] <br>\n",
    "C: [(3, (4, 9)), (3, (4, 6)), (3, (6, 9)), (3, (6, 9))] <br>\n",
    "D: None of the above <br>\n",
    "\n",
    "**B**"
   ]
  },
  {
   "cell_type": "code",
   "execution_count": 2,
   "metadata": {
    "collapsed": false
   },
   "outputs": [
    {
     "name": "stdout",
     "output_type": "stream",
     "text": [
      "Welcome to\n",
      "      ____              __\n",
      "     / __/__  ___ _____/ /__\n",
      "    _\\ \\/ _ \\/ _ `/ __/  '_/\n",
      "   /__ / .__/\\_,_/_/ /_/\\_\\   version 1.5.0\n",
      "      /_/\n",
      "\n",
      "Using Python version 3.5.1 (default, Dec  7 2015 11:24:55)\n",
      "SparkContext available as sc, HiveContext available as sqlContext.\n"
     ]
    }
   ],
   "source": [
    "import os\n",
    "import sys\n",
    "spark_home = os.environ['SPARK_HOME'] = '/opt/spark-1.5.0-bin-hadoop2.6/'\n",
    "if not spark_home:\n",
    "    raise ValueError('SPARK_HOME enviroment variable is not set')\n",
    "\n",
    "sys.path.insert(0,os.path.join(spark_home,'python'))\n",
    "sys.path.insert(0,os.path.join(spark_home,'python/lib/py4j-0.8.2.1-src.zip'))\n",
    "exec(open(os.path.join(spark_home,'python/pyspark/shell.py')).read())"
   ]
  },
  {
   "cell_type": "code",
   "execution_count": 6,
   "metadata": {
    "collapsed": false
   },
   "outputs": [
    {
     "data": {
      "text/plain": [
       "[(3, (4, 9)), (3, (4, 6)), (3, (6, 9)), (3, (6, 6))]"
      ]
     },
     "execution_count": 6,
     "metadata": {},
     "output_type": "execute_result"
    }
   ],
   "source": [
    "RDD1 = sc.parallelize({(1, 2), (3, 4), (3, 6)})\n",
    "RDD2 = sc.parallelize({(3, 9), (3, 6)})\n",
    "joinedRDD = RDD1.join(RDD2)\n",
    "joinedRDD.collect()"
   ]
  },
  {
   "cell_type": "markdown",
   "metadata": {},
   "source": [
    "**===== ET:14  You have been tasked to build a predictive model to forecast beer sales for a chain of stores.\n",
    "After doing basic exploratory analysis on the data, what is the first thing you do regarding modeling?**\n",
    "\n",
    "\n",
    "(a) Construct a baseline model <br>\n",
    "(b) Determine a metric to evaluate your machine learnt models <br>\n",
    "(c) Split your data into training, validation and test subsets (or split using cross fold validatation) <br>\n",
    "(d) All of the  of the above <br>\n",
    "\n",
    "**B.  You want to do all three, but B is the first and most important since it is the foundation for the learning to happen.  Do we care about number of transactions, revenue, margin, etc?**"
   ]
  },
  {
   "cell_type": "markdown",
   "metadata": {},
   "source": [
    "**===== ET:15 \n",
    "Use Spark and the following notebook, https://www.dropbox.com/s/6s5ph41h74bggwi/Linear-Regression-on-Beer-Data.ipynb?dl=0 to answer this question.**\n",
    "\n",
    "The mean absolute percentage error (MAPE), also known as mean absolute percentage deviation (MAPD), is a measure of prediction accuracy of a model for say a forecasting method in statistics, \n",
    "for example in trend estimation. It usually expresses accuracy as a percentage, and is defined by the formula:\n",
    "\n",
    "MAPE = average over all examples (100*Abs(Actual - Predicted) / Actual)) \n",
    "\n",
    "Note when Actual is zero that test row is dropped from the evaluation.\n",
    "\n",
    "Construct a mean model for target variable CASES18PK. Calculate the MAPE for the mean model over the training set. Select the closest answer.\n",
    "\n",
    "(a) 200% <br>\n",
    "(b) 250% <br>\n",
    "(c) 20% <br>\n",
    "(d) 180% <br>\n",
    "\n",
    "**A is the closest with 209.75**"
   ]
  },
  {
   "cell_type": "markdown",
   "metadata": {},
   "source": [
    "\n",
    "**===== ET:16\n",
    "Use Spark and the following notebook, https://www.dropbox.com/s/6s5ph41h74bggwi/Linear-Regression-on-Beer-Data.ipynb?dl=0 to answer this question.**\n",
    "\n",
    "The target variable CASES18PK is skewed, so take the log of it (and make it more normally distributed) and compute the MAPE of the mean model for CASES18PK\n",
    "Select the closest answer to your calculated MAPE.\n",
    "\n",
    "(a) 200% <br>\n",
    "(b) 30% <br>\n",
    "(c) 20% <br>\n",
    "(d) 10% <br>\n",
    "\n",
    "**C is the closest 19.56**"
   ]
  },
  {
   "cell_type": "markdown",
   "metadata": {},
   "source": [
    "**===== ET:17\n",
    "Use Spark and the following notebook, https://www.dropbox.com/s/6s5ph41h74bggwi/Linear-Regression-on-Beer-Data.ipynb?dl=0 to answer this question.**\n",
    "\n",
    "Build a linear regression model using the following variables:\n",
    "\n",
    "Log(CASES18PK)  ~  log(PRICE12PK), \tlog(PRICE18PK),\tlog(PRICE30PK)\n",
    "\n",
    "Calculate MAPE over the test set and select the closest answer.\n",
    "\n",
    "(a) 4.3%\n",
    "(b) 4.6%\n",
    "(c) 3.5%\n",
    "(d) 3.9%\n",
    "\n",
    "**Out of time, guessing D.**"
   ]
  },
  {
   "cell_type": "markdown",
   "metadata": {},
   "source": [
    "===== ET:18\n",
    "Recall that Spark automatically sends all variables referenced in your closures to the\n",
    "worker nodes. While this is convenient, it can also be inefficient because (1) the\n",
    "default task launching mechanism is optimized for small task sizes, and (2) you\n",
    "might, in fact, use the same variable in multiple parallel operations, but Spark will\n",
    "send it separately for each operation. As an example, say that we wanted to write a\n",
    "Spark program that looks up countries by their call signs (e.g., the call sign for Ireland is EJZ) by prefix matching in an\n",
    "table. In the following the \"signPrefixes\" variable is essentially a table with two columns \"Sign\" and \"Country Name\". The goal is \n",
    "to join the following tables:\n",
    "\n",
    "     signPrefixes table with columns \"Sign\" and \"Country Name\"\n",
    "     contactCounts table with columns \"Sign\" and \"count\"\n",
    "\n",
    "     to yield  a new table:\n",
    "\n",
    "countryContactCounts with the following columns \"Country Name\" and \"count\"\n",
    "\n",
    "Use Spark and the following notebook, https://www.dropbox.com/s/6s5ph41h74bggwi/Linear-Regression-on-Beer-Data.ipynb?dl=0 to answer this question.\n",
    "\n",
    "#..... Other code...\n",
    "#Country lookup code\n",
    "\n",
    "# Helper functions for looking up the call signs\n",
    "\n",
    " def lookupCountry(sign, prefixes):\n",
    "    pos = bisect.bisect_left(prefixes, sign)\n",
    "    return prefixes[pos].split(\",\")[1]\n",
    "\n",
    "\n",
    "def loadCallSignTable():\n",
    "    f = open(\"callsign_tbl_sorted.txt\", \"r\")\n",
    "    return f.readlines()\n",
    "\n",
    "# Lookup the locations of the call signs on the\n",
    "# RDD contactCounts. We load a list of call sign\n",
    "# prefixes to country code to support this lookup.\n",
    "signPrefixes = loadCallSignTable()\n",
    "\n",
    "\n",
    "def processSignCount(sign_count, signPrefixes):\n",
    "    country = lookupCountry(sign_count[0], signPrefixes)\n",
    "    count = sign_count[1]\n",
    "    return (country, count)\n",
    "\n",
    "countryContactCounts = (contactCounts\n",
    "                        .map(lambda signCount: processSignCount(signCount, signPrefixes))\n",
    "                        .reduceByKey((lambda x, y: x + y)))\n",
    "\n",
    "countryContactCounts.saveAsTextFile(outputDir + \"/countries.txt\")\n",
    "\n",
    "How can we modfify this code to make it more efficient? Choose one response only\n",
    "\n",
    "(a) modify line 18 with sc.broadcast(loadCallSignTable())\n",
    "(b) Use accumulators to store the counts for each country\n",
    "(c) The code is already optimal\n",
    "(d) none of the above\n",
    "\n",
    "**A**"
   ]
  },
  {
   "cell_type": "code",
   "execution_count": null,
   "metadata": {
    "collapsed": true
   },
   "outputs": [],
   "source": []
  }
 ],
 "metadata": {
  "kernelspec": {
   "display_name": "Python 3",
   "language": "python",
   "name": "python3"
  },
  "language_info": {
   "codemirror_mode": {
    "name": "ipython",
    "version": 3
   },
   "file_extension": ".py",
   "mimetype": "text/x-python",
   "name": "python",
   "nbconvert_exporter": "python",
   "pygments_lexer": "ipython3",
   "version": "3.5.1"
  }
 },
 "nbformat": 4,
 "nbformat_minor": 0
}
