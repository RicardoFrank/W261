{
 "cells": [
  {
   "cell_type": "markdown",
   "metadata": {},
   "source": [
    "#Data"
   ]
  },
  {
   "cell_type": "code",
   "execution_count": 1,
   "metadata": {
    "collapsed": false
   },
   "outputs": [
    {
     "name": "stdout",
     "output_type": "stream",
     "text": [
      "Overwriting textrank.txt\n"
     ]
    }
   ],
   "source": [
    "%%writefile textrank.txt\n",
    "3: BC−HurricaineGilbert, 09−11 339\n",
    "4: BC−Hurricaine Gilbert, 0348\n",
    "5: Hurricaine Gilbert heads toward Dominican Coast\n",
    "6: By Ruddy Gonzalez\n",
    "7: Associated Press Writer\n",
    "8: Santo Domingo, Dominican Republic (AP)\n",
    "9: Hurricaine Gilbert Swept towrd the Dominican Republic Sunday, and the Civil Defense alerted its heavily populated south coast to prepare for high winds, heavy rains, and high seas.\n",
    "10: The storm was approaching from the southeast with sustained winds of 75 mph gusting to 92 mph.\n",
    "11: \"There is no need for alarm,\" Civil Defense Director Eugenio Cabral said in a television alert shortly after midnight Saturday.\n",
    "12: Cabral said residents of the province of Barahona should closely follow Gilbert’s movement.\n",
    "13: An estimated 100,000 people live in the province, including 70,000 in the city of Barahona, about 125 miles west of Santo Domingo.\n",
    "14: Tropical storm Gilbert formed in the eastern Carribean and strenghtened into a hurricaine Saturday night.\n",
    "15: The National Hurricaine Center in Miami reported its position at 2 a.m. Sunday at latitude 16.1 north, longitude 67.5 west, about 140 miles south of Ponce, Puerto Rico, and 200 miles southeast of Santo Domingo.\n",
    "16: The National Weather Service in San Juan, Puerto Rico, said Gilbert was moving westard at 15 mph with a \"broad area of cloudiness and heavy weather\" rotating around the center of the storm.\n",
    "17: The weather service issued a flash flood watch for Puerto Rico and the Virgin Islands until at least 6 p.m. Sunday.\n",
    "18: Strong winds associated with the Gilbert brought coastal flooding, strong southeast winds, and up to 12 feet to Puerto Rico’s south coast.\n",
    "19: There were no reports on casualties.\n",
    "20: San Juan, on the north coast, had heavy rains and gusts Saturday, but they subsided during the night.\n",
    "21: On Saturday, Hurricane Florence was downgraded to a tropical storm, and its remnants pushed inland from the U.S. Gulf Coast.\n",
    "22: Residents returned home, happy to find little damage from 90 mph winds and sheets of rain.\n",
    "23: Florence, the sixth named storm of the 1988 Atlantic storm season, was the second hurricane.\n",
    "24: The first, Debby, reached minimal hurricane strength briefly before hitting the Mexican coast last month."
   ]
  },
  {
   "cell_type": "markdown",
   "metadata": {},
   "source": [
    "#Set enviroment variable for PySpark"
   ]
  },
  {
   "cell_type": "code",
   "execution_count": 2,
   "metadata": {
    "collapsed": false
   },
   "outputs": [
    {
     "name": "stdout",
     "output_type": "stream",
     "text": [
      "Welcome to\n",
      "      ____              __\n",
      "     / __/__  ___ _____/ /__\n",
      "    _\\ \\/ _ \\/ _ `/ __/  '_/\n",
      "   /__ / .__/\\_,_/_/ /_/\\_\\   version 1.6.1\n",
      "      /_/\n",
      "\n",
      "Using Python version 3.5.1 (default, Dec  7 2015 11:24:55)\n",
      "SparkContext available as sc, HiveContext available as sqlContext.\n"
     ]
    }
   ],
   "source": [
    "import os\n",
    "import sys\n",
    "spark_home = os.environ['SPARK_HOME'] = '/opt/spark-1.6.1-bin-hadoop2.6/'\n",
    "if not spark_home:\n",
    "    raise ValueError('SPARK_HOME enviroment variable is not set')\n",
    "\n",
    "sys.path.insert(0,os.path.join(spark_home,'python'))\n",
    "sys.path.insert(0,os.path.join(spark_home,'python/lib/py4j-0.9-src.zip'))\n",
    "exec(open(os.path.join(spark_home,'python/pyspark/shell.py')).read())"
   ]
  },
  {
   "cell_type": "markdown",
   "metadata": {},
   "source": [
    "#Text Rank Algo"
   ]
  },
  {
   "cell_type": "code",
   "execution_count": 11,
   "metadata": {
    "collapsed": false
   },
   "outputs": [],
   "source": [
    "from math import log\n",
    "\n",
    "def computeContribs(sentences, rank):\n",
    "    sumOfWeights = sum([s[1] for s in sentences])\n",
    "    for sentence in sentences:\n",
    "        yield (sentence[0], rank * sentence[1] / sumOfWeights)\n",
    "# each record is (node, List of All Neighbors)        \n",
    "def parseSentences(line):\n",
    "    fields = line.split(':')\n",
    "    return(fields[0], fields[1].replace(',','').split())\n",
    "\n",
    "def generateLink(sentence1,sentence2):\n",
    "    w = len(set(sentence1[1]) & set(sentence2[1]))/(log(len(sentence1[1]))+log(len(sentence2[1])))\n",
    "    return(sentence1[0],(sentence2[0],w))\n",
    "\n",
    "text = sc.textFile(\"./textrank.txt\").map(parseSentences)\n",
    "links = text.cartesian(text).filter(lambda(s1,s2): s1[0]!=s2[0]).collect()\n",
    "\n"
   ]
  },
  {
   "cell_type": "code",
   "execution_count": null,
   "metadata": {
    "collapsed": true
   },
   "outputs": [],
   "source": [
    "links = text.cartesian(text).filter(lambda(s1,s2): s1[0]!=s2[0]).map(lambda(s1,s2):generateLink(s1,s2)).groupByKey().filter(lambda (Idx,links): sum([s[1] for s in links])>0).cache()\n",
    "ranks = links.map(lambda (url, neighbors): (url, 1.0))\n",
    "for iteration in xrange(5):\n",
    "    #Emit scores to all neighbor nodes \n",
    "    contribs = links.join(ranks).flatMap(\n",
    "        lambda (sentence, (sentences, rank)): computeContribs(sentences, rank))\n",
    "    #sum up \n",
    "    ranks = contribs.reduceByKey(lambda x,y: x+y).mapValues(lambda rank: rank * 0.85 + 0.15)\n",
    "print ranks.collect()"
   ]
  }
 ],
 "metadata": {
  "kernelspec": {
   "display_name": "Python 3",
   "language": "python",
   "name": "python3"
  },
  "language_info": {
   "codemirror_mode": {
    "name": "ipython",
    "version": 3
   },
   "file_extension": ".py",
   "mimetype": "text/x-python",
   "name": "python",
   "nbconvert_exporter": "python",
   "pygments_lexer": "ipython3",
   "version": "3.5.1"
  }
 },
 "nbformat": 4,
 "nbformat_minor": 0
}
