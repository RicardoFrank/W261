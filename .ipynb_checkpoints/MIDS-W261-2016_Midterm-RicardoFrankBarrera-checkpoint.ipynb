{
 "cells": [
  {
   "cell_type": "markdown",
   "metadata": {},
   "source": [
    "# MIDS Machine Learning at Scale MidTerm exam, Week 8, Spring, 2016"
   ]
  },
  {
   "cell_type": "markdown",
   "metadata": {},
   "source": [
    "Ricardo Frank Barrera <br>\n",
    "March 2, 2016 <br>\n",
    "Group 2 - W261"
   ]
  },
  {
   "cell_type": "markdown",
   "metadata": {},
   "source": [
    "Exam location is at:\n",
    "\n",
    "     https://www.dropbox.com/s/jdkkttnwd88uxkl/MIDS-MLS-MidTerm-2016-Spring-Live.txt?dl=0\n",
    "===Instructions for midterm===\n",
    "\n",
    "Instructions:\n",
    "\n",
    "1: Please acknowledge receipt of exam by sending a quick reply to the instructors\n",
    "2: Review the submission form first to scope it out (it will take a 5-10 minutes to input your \n",
    "   answers and other information into this form)\n",
    "3: Please keep all your work and responses in ONE (1) notebook only (and submit via the form)\n",
    "4: Please make sure that the NBViewer link for your Submission notebook works\n",
    "5: Please do NOT discuss this exam with anyone (including your class mates) until after 8AM (West coast time) Friday, March 4, 2016 \n",
    "\n",
    "Please use your live session time from week 8 to complete this mid term \n",
    "(plus an additional 30 minutes if you need it). \n",
    "This is an open book exam meaning you can consult webpages and textbooks \n",
    "(but not each other or other people). Please complete this exam by yourself.\n",
    "\n",
    "Please submit your solutions and notebook via the following form:\n",
    "\n",
    "      http://goo.gl/forms/ggNYfRXz0t\n",
    " \n",
    "===Exam durations (All times are in California Time)===\n",
    "\n",
    "Live Session Group #4 4:00 PM - 6:00 PM (Tuesday)\n",
    "Live Session Group #2 4:00 PM - 6:00 PM (Wednesday)\n",
    "Live Session Group #3 6:30 PM - 8:30 PM (Wednesday)\n"
   ]
  },
  {
   "cell_type": "markdown",
   "metadata": {},
   "source": [
    "# MT0"
   ]
  },
  {
   "cell_type": "markdown",
   "metadata": {},
   "source": [
    "**===Map-Reduce===<br>\n",
    "MT0. Which of the following statememts about map-reduce are true? Check all that apply.**\n",
    "\n",
    "(a) If you only have 1 computer with 1 computing core, then map-reduce is unlikely to help<br>\n",
    "(b) If we run map-reduce using N computers, then we will always get at least an N-Fold speedup compared to using 1 computer<br>\n",
    "(c) Because of network latency and other overhead associated with map-reduce, if we run map-reduce using N computers, then we will get less than N-Fold speedup compared to using 1 computer<br>\n",
    "(d) When using map-reduce with gradient descent, we usually use a single machine that accumulates the gradients from each of the map-reduce machines, in order to compute the paramter update for the iterion<br>\n",
    "\n",
    "**ANSWER: A and D are true. B and C are false**\n"
   ]
  },
  {
   "cell_type": "markdown",
   "metadata": {},
   "source": [
    "# MT1"
   ]
  },
  {
   "cell_type": "markdown",
   "metadata": {},
   "source": [
    "**===Order inversion===**97m,,<br>\n",
    "\n",
    "**MT1. Suppose you wish to write a MapReduce job that creates \n",
    "normalized word co-occurrence data form a large input text. \n",
    "To ensure that all (potentially many) reducers\n",
    "receive appropriate normalization factors (denominators)\n",
    "in the correct order in their input streams\n",
    "(so as to minimize memory overhead), \n",
    "the mapper should emit according to which pattern:**\n",
    "\n",
    "(a) emit (*,word) count<br>\n",
    "(b) There is no need to use  order inversion here<br>\n",
    "(c) emit (word,*) count<br>\n",
    "(d) None of the above<br>\n",
    "\n",
    "**ANSWER: C is correct**"
   ]
  },
  {
   "cell_type": "markdown",
   "metadata": {},
   "source": [
    "# MT2"
   ]
  },
  {
   "cell_type": "markdown",
   "metadata": {},
   "source": [
    "**===Apriori principle===**\n",
    "\n",
    "**MT2. When searching for frequent itemsets with the Apriori algorithm\n",
    "(using a threshold, N), the Apriori principle allows us to avoid \n",
    "tracking the occurrences of the itemset {A,B,C} provided**\n",
    "\n",
    "(a) all subsets of {A,B,C} occur less than N times.\n",
    "(b) any pair of {A,B,C} occurs less than N times.\n",
    "(c) any subset of {A,B,C} occurs less than N times.\n",
    "(d) All of the above\n",
    "\n",
    "**ANSWER: C, since we can choose whatever subset type we want to filter (e.g. bigram, unigram, etc)**"
   ]
  },
  {
   "cell_type": "markdown",
   "metadata": {},
   "source": [
    "# MT3"
   ]
  },
  {
   "cell_type": "markdown",
   "metadata": {},
   "source": [
    "**===Bayesian document classification===**\n",
    "\n",
    "**MT3. When building a Bayesian document classifier, Laplace smoothing serves what purpose?**\n",
    "\n",
    "(a) It allows you to use your training data as your validation data.\n",
    "(b) It prevents zero-products in the posterior distribution.\n",
    "(c) It accounts for words that were missed by regular expressions. \n",
    "(d) None of the above\n",
    "\n",
    "**ANSWER: D, Lapace smoothing prevents division by zero because of zero-frequency items when evaluating log()**"
   ]
  },
  {
   "cell_type": "markdown",
   "metadata": {},
   "source": [
    "# MT4"
   ]
  },
  {
   "cell_type": "markdown",
   "metadata": {},
   "source": [
    "**===Bias-variance tradeoff===**\n",
    "\n",
    "**MT4. By increasing the complexity of a model regressed on some samples of data,\n",
    "it is likely that the ensemble will exhibit which of the following?**\n",
    "\n",
    "(a) Increased variance and bias<br>\n",
    "(b) Increased variance and decreased bias<br>\n",
    "(c) Decreased variance and bias<br>\n",
    "(d) Decreased variance and increased bias<br>\n",
    "\n",
    "**ANSWER: B**"
   ]
  },
  {
   "cell_type": "markdown",
   "metadata": {},
   "source": [
    "# MT5"
   ]
  },
  {
   "cell_type": "markdown",
   "metadata": {},
   "source": [
    "**===Combiners===**\n",
    "\n",
    "**MT5. Combiners can be integral to the successful utilization of the Hadoop shuffle.\n",
    "This utility is as a result of**\n",
    "\n",
    "(a) minimization of reducer workload<br>\n",
    "(b) both (a) and (c)<br>\n",
    "(c) minimization of network traffic<br>\n",
    "(d) none of the above<br>\n",
    "\n",
    "**ANSWER: B**"
   ]
  },
  {
   "cell_type": "markdown",
   "metadata": {},
   "source": [
    "**===Pairwise similarity using K-L divergence===**\n",
    "\n",
    "In probability theory and information theory, the Kullback–Leibler divergence \n",
    "(also information divergence, information gain, relative entropy, KLIC, or KL divergence) \n",
    "is a non-symmetric measure of the difference between two probability distributions P and Q. \n",
    "Specifically, the Kullback–Leibler divergence of Q from P, denoted DKL(P‖Q), \n",
    "is a measure of the information lost when Q is used to approximate P:\n",
    "\n",
    "For discrete probability distributions P and Q, \n",
    "the Kullback–Leibler divergence of Q from P is defined to be\n",
    "\n",
    "KLDistance(P, Q) = Sum over i (P(i) log (P(i) / Q(i))      \n",
    "\n",
    "In the extreme cases, the KL Divergence is 1 when P and Q are maximally different\n",
    "and is 0 when the two distributions are exactly the same (follow the same distribution).\n",
    "\n",
    "For more information on K-L Divergence see:\n",
    "\n",
    "https://en.wikipedia.org/wiki/Kullback%E2%80%93Leibler_divergence\n",
    "\n",
    "For the next three question we will use an MRjob class for calculating pairwise similarity \n",
    "using K-L Divergence as the similarity measure:\n",
    "\n",
    "Job 1: create inverted index (assume just two objects)\n",
    "Job 2: calculate/accumulate the similarity of each pair of objects using K-L Divergence\n",
    "\n",
    "Download the following notebook and then fill in the code for the first reducer to calculate \n",
    "the K-L divergence of objects (letter documents) in line1 and line2, i.e., KLD(Line1||line2).\n",
    "\n",
    "Here we ignore characters which are not alphabetical. And all alphabetical characters are lower-cased in the first mapper.\n",
    "\n",
    "http://nbviewer.ipython.org/urls/dl.dropbox.com/s/9onx4c2dujtkgd7/Kullback%E2%80%93Leibler%20divergence-MIDS-Midterm.ipynb\n",
    "https://www.dropbox.com/s/zr9xfhwakrxz9hc/Kullback%E2%80%93Leibler%20divergence-MIDS-Midterm.ipynb?dl=0"
   ]
  },
  {
   "cell_type": "code",
   "execution_count": 1,
   "metadata": {
    "collapsed": false
   },
   "outputs": [
    {
     "name": "stdout",
     "output_type": "stream",
     "text": [
      "Writing kltext.txt\n"
     ]
    }
   ],
   "source": [
    "%%writefile kltext.txt\n",
    "1.Data Science is an interdisciplinary field about processes and systems to extract knowledge or insights from large volumes of data in various forms (data in various forms, data in various forms, data in various forms), either structured or unstructured,[1][2] which is a continuation of some of the data analysis fields such as statistics, data mining and predictive analytics, as well as Knowledge Discovery in Databases.\n",
    "2.Machine learning is a subfield of computer science[1] that evolved from the study of pattern recognition and computational learning theory in artificial intelligence.[1] Machine learning explores the study and construction of algorithms that can learn from and make predictions on data.[2] Such algorithms operate by building a model from example inputs in order to make data-driven predictions or decisions,[3]:2 rather than following strictly static program instructions.\n"
   ]
  },
  {
   "cell_type": "code",
   "execution_count": 2,
   "metadata": {
    "collapsed": false
   },
   "outputs": [
    {
     "ename": "ImportError",
     "evalue": "No module named 'numpy'",
     "output_type": "error",
     "traceback": [
      "\u001b[1;31m---------------------------------------------------------------------------\u001b[0m",
      "\u001b[1;31mImportError\u001b[0m                               Traceback (most recent call last)",
      "\u001b[1;32m<ipython-input-2-3bd3b12ede52>\u001b[0m in \u001b[0;36m<module>\u001b[1;34m()\u001b[0m\n\u001b[1;32m----> 1\u001b[1;33m \u001b[1;32mimport\u001b[0m \u001b[0mnumpy\u001b[0m \u001b[1;32mas\u001b[0m \u001b[0mnp\u001b[0m\u001b[1;33m\u001b[0m\u001b[0m\n\u001b[0m\u001b[0;32m      2\u001b[0m \u001b[0mnp\u001b[0m\u001b[1;33m.\u001b[0m\u001b[0mlog\u001b[0m\u001b[1;33m(\u001b[0m\u001b[1;36m3\u001b[0m\u001b[1;33m)\u001b[0m\u001b[1;33m\u001b[0m\u001b[0m\n",
      "\u001b[1;31mImportError\u001b[0m: No module named 'numpy'"
     ]
    }
   ],
   "source": [
    "import numpy as np\n",
    "np.log(3)"
   ]
  },
  {
   "cell_type": "code",
   "execution_count": null,
   "metadata": {
    "collapsed": true
   },
   "outputs": [],
   "source": [
    "%%writefile kldivergence.py\n",
    "from mrjob.job import MRJob\n",
    "import re\n",
    "#import numpy as np\n",
    "class kldiverge nce(MRJob):\n",
    "    def mapper1(self, _, line):\n",
    "        index = int(line.split('.',1)[0])\n",
    "        letter_list = re.sub(r\"[^A-Za-z]+\", '', line).lower()\n",
    "        count = {}\n",
    "        for l in letter_list:\n",
    "            if count.has_key(l):\n",
    "                count[l] += 1\n",
    "            else:\n",
    "                count[l] = 1\n",
    "        for key in count:\n",
    "            yield key, [index, count[key]*1.0/len(letter_list)]\n",
    "\n",
    "\n",
    "    def reducer1(self, key, values):\n",
    "        #letter, doc, relative_freq\n",
    "        for entry in values:\n",
    "            if entry[0] == 1:\n",
    "                P_freq = entry[1]\n",
    "            else:\n",
    "                yield None, (P_freq * np.log(P_freq / entry[1]))\n",
    "    \n",
    "    def reducer2(self, key, values):\n",
    "        kl_sum = 0\n",
    "        for value in values:\n",
    "            kl_sum = kl_sum + value\n",
    "        yield None, kl_sum\n",
    "            \n",
    "    def steps(self):\n",
    "        return [self.mr(mapper=self.mapper1,\n",
    "                        reducer=self.reducer1),\n",
    "                self.mr(reducer=self.reducer2)]\n",
    "\n",
    "if __name__ == '__main__':\n",
    "    kldivergence.run()\n"
   ]
  },
  {
   "cell_type": "markdown",
   "metadata": {},
   "source": [
    "Numpy installation messed up so I can't run inline\n",
    "\n",
    "output was (None, 0.08088278445318145)"
   ]
  },
  {
   "cell_type": "markdown",
   "metadata": {},
   "source": [
    "# MT6"
   ]
  },
  {
   "cell_type": "markdown",
   "metadata": {},
   "source": [
    "**MT6. Which number below is the closest to the result you get for KLD(Line1||line2)?**\n",
    "\n",
    "(a) 0.7<br>\n",
    "(b) 0.5<br>\n",
    "(c) 0.2<br>\n",
    "(d) 0.1<br>\n",
    "\n",
    "**ANSWER: D**"
   ]
  },
  {
   "cell_type": "markdown",
   "metadata": {},
   "source": [
    "# MT7"
   ]
  },
  {
   "cell_type": "markdown",
   "metadata": {},
   "source": [
    "**MT7. Which of the following letters are missing from these character vectors?**\n",
    "\n",
    "(a) p and t<br>\n",
    "(b) k and q<br>\n",
    "(c) j and q<br>\n",
    "(d) j and f<br>\n",
    "\n",
    "**ANSWER: C**"
   ]
  },
  {
   "cell_type": "markdown",
   "metadata": {},
   "source": [
    "# MT8"
   ]
  },
  {
   "cell_type": "code",
   "execution_count": 1,
   "metadata": {
    "collapsed": false
   },
   "outputs": [
    {
     "name": "stderr",
     "output_type": "stream",
     "text": [
      "Usage: __main__.py [options] [input files]\n",
      "\n",
      "__main__.py: error: no such option: -f\n"
     ]
    },
    {
     "ename": "SystemExit",
     "evalue": "2",
     "output_type": "error",
     "traceback": [
      "An exception has occurred, use %tb to see the full traceback.\n",
      "\u001b[0;31mSystemExit\u001b[0m\u001b[0;31m:\u001b[0m 2\n"
     ]
    },
    {
     "name": "stderr",
     "output_type": "stream",
     "text": [
      "To exit: use 'exit', 'quit', or Ctrl-D.\n"
     ]
    }
   ],
   "source": [
    "from mrjob.job import MRJob\n",
    "import re\n",
    "import numpy as np\n",
    "class kldivergence(MRJob):\n",
    "    def mapper1(self, _, line):\n",
    "        index = int(line.split('.',1)[0])\n",
    "        letter_list = re.sub(r\"[^A-Za-z]+\", '', line).lower()\n",
    "        count = {}\n",
    "        for l in letter_list:\n",
    "            if count.has_key(l):\n",
    "                count[l] += 1\n",
    "            else:\n",
    "                count[l] = 1\n",
    "        for key in count:\n",
    "            yield key, [index, (count[key]+1)*1.0/(len(letter_list)+24)]\n",
    "\n",
    "\n",
    "    def reducer1(self, key, values):\n",
    "        #letter, doc, relative_freq\n",
    "        for entry in values:\n",
    "            if entry[0] == 1:\n",
    "                P_freq = entry[1]\n",
    "            else:\n",
    "                yield None, (P_freq * np.log(P_freq / entry[1]))\n",
    "    \n",
    "    def reducer2(self, key, values):\n",
    "        kl_sum = 0\n",
    "        for value in values:\n",
    "            kl_sum = kl_sum + value\n",
    "        yield None, kl_sum\n",
    "            \n",
    "    def steps(self):\n",
    "        return [self.mr(mapper=self.mapper1,\n",
    "                        reducer=self.reducer1),\n",
    "                self.mr(reducer=self.reducer2)]\n",
    "\n",
    "if __name__ == '__main__':\n",
    "    kldivergence.run()"
   ]
  },
  {
   "cell_type": "markdown",
   "metadata": {},
   "source": [
    "**MT8. The KL divergence on multinomials is defined only when they have nonzero entries. \n",
    "For zero entries, we have to smooth distributions. Suppose we smooth in this way: **\n",
    "\n",
    "(ni+1)/(n+24)\n",
    "\n",
    "**where ni is the count for letter i and n is the total count of all letters. \n",
    "After smoothing, which number below is the closest to the result you get for KLD(Line1||line2)?**\n",
    "\n",
    "(a) 0.08<br>\n",
    "(b) 0.71<br>\n",
    "(c) 0.02<br>\n",
    "(d) 0.11<br>\n",
    "\n",
    "**OUTPUT: (None, 0.06726997279170038)**<br>\n",
    "**ANSWER: A**"
   ]
  },
  {
   "cell_type": "markdown",
   "metadata": {},
   "source": [
    "# MT9"
   ]
  },
  {
   "cell_type": "markdown",
   "metadata": {},
   "source": [
    "**===Gradient descent===**\n",
    "\n",
    "**MT9. Which of the following are true statements with respect to gradient descent for machine learning, where alpha is the learning rate. Select all that apply**<br>\n",
    "\n",
    "(a) To make gradient descent converge, we must slowly decrease alpha over time and use a combiner in the context of Hadoop.<br>\n",
    "(b) Gradient descent is guaranteed to find the global minimum for any function J() regardless of using a combiner or not in the context of Hadoop<br>\n",
    "(c) Gradient descent can converge even if alpha is kept fixed. (But alpha cannot be too large, or else it may fail to converge.) Combiners will help speed up the process.<br>\n",
    "(d) For the specific choice of cost function J() used in linear regression, there is no local optima (other than the global optimum).<br>\n",
    "\n",
    "**ANSWER: C and D are true. A and B are false**"
   ]
  },
  {
   "cell_type": "markdown",
   "metadata": {},
   "source": [
    "**===Weighted K-means===**\n",
    "\n",
    "Write a MapReduce job in MRJob to do the training at scale of a weighted K-means algorithm.\n",
    "\n",
    "You can write your own code or you can use most of the code from the following notebook:\n",
    "\n",
    "http://nbviewer.ipython.org/urls/dl.dropbox.com/s/kjtdyi10nwmk4ko/MrJobKmeans-MIDS-Midterm.ipynb\n",
    "https://www.dropbox.com/s/kjtdyi10nwmk4ko/MrJobKmeans-MIDS-Midterm.ipynb?dl=0\n",
    "\n",
    "Weight each example as follows using the inverse vector length (Euclidean norm): \n",
    "\n",
    "weight(X)= 1/||X||, \n",
    "\n",
    "where ||X|| = SQRT(X.X)= SQRT(X1^2 + X2^2)\n",
    "\n",
    "Here X is vector made up of X1 and X2.\n",
    "\n",
    "Using the following data answer the following questions:\n",
    "\n",
    "https://www.dropbox.com/s/ai1uc3q2ucverly/Kmeandata.csv?dl=0"
   ]
  },
  {
   "cell_type": "code",
   "execution_count": null,
   "metadata": {
    "collapsed": true
   },
   "outputs": [],
   "source": [
    "from numpy import argmin, array, random\n",
    "from mrjob.job import MRJob\n",
    "from mrjob.step import MRJobStep\n",
    "from itertools import chain\n",
    "\n",
    "#Calculate find the nearest centroid for data point \n",
    "def MinDist(datapoint, centroid_points):\n",
    "    datapoint = array(datapoint)\n",
    "    centroid_points = array(centroid_points)\n",
    "    diff = datapoint - centroid_points \n",
    "    diffsq = diff**2\n",
    "    \n",
    "    distances = (diffsq.sum(axis = 1))**0.5\n",
    "    # Get the nearest centroid for each instance\n",
    "    min_idx = argmin(distances)\n",
    "    return min_idx\n",
    "\n",
    "#Check whether centroids converge\n",
    "def stop_criterion(centroid_points_old, centroid_points_new,T):\n",
    "    oldvalue = list(chain(*centroid_points_old))\n",
    "    newvalue = list(chain(*centroid_points_new))\n",
    "    Diff = [abs(x-y) for x, y in zip(oldvalue, newvalue)]\n",
    "    Flag = True\n",
    "    for i in Diff:\n",
    "        if(i>T):\n",
    "            Flag = False\n",
    "            break\n",
    "    return Flag\n",
    "\n",
    "\n",
    "class MRKmeans(MRJob):\n",
    "    centroid_points=[]\n",
    "    k=3    \n",
    "    def steps(self):\n",
    "        return [\n",
    "            MRJobStep(mapper_init = self.mapper_init, mapper=self.mapper,combiner = self.combiner,reducer=self.reducer)\n",
    "               ]\n",
    "    #load centroids info from file\n",
    "    def mapper_init(self):\n",
    "        self.centroid_points = [map(float,s.split('\\n')[0].split(',')) for s in open(\"C:/Users/Ricardo/Documents/Berkeley/w261/Midterm/Centroids.txt\").readlines()]\n",
    "        open('Centroids.txt', 'w').close()\n",
    "    #load data and output the nearest centroid index and data point \n",
    "    def mapper(self, _, line):\n",
    "        D = (map(float,line.split(',')))\n",
    "        idx = MinDist(D,self.centroid_points)\n",
    "        yield int(idx), (D[0],D[1],1)\n",
    "    #Combine sum of data points locally\n",
    "    def combiner(self, idx, inputdata):\n",
    "        sumx = sumy = num = 0\n",
    "        for x,y,n in inputdata:\n",
    "            num = num + n\n",
    "            sumx = sumx + x\n",
    "            sumy = sumy + y\n",
    "        yield int(idx),(sumx,sumy,num)\n",
    "    #Aggregate sum for each cluster and then calculate the new centroids\n",
    "    def reducer(self, idx, inputdata): \n",
    "        centroids = []\n",
    "        num = [0]*self.k \n",
    "        distances = 0\n",
    "        for i in range(self.k):\n",
    "            centroids.append([0,0])\n",
    "        for x, y, n in inputdata:\n",
    "            num[idx] = num[idx] + n\n",
    "            centroids[idx][0] = centroids[idx][0] + x\n",
    "            centroids[idx][1] = centroids[idx][1] + y\n",
    "        centroids[idx][0] = centroids[idx][0]/num[idx]\n",
    "        centroids[idx][1] = centroids[idx][1]/num[idx]\n",
    "        with open('Centroids.txt', 'a') as f:\n",
    "            f.writelines(str(centroids[idx][0]) + ',' + str(centroids[idx][1]) + '\\n')\n",
    "        yield idx,(centroids[idx][0],centroids[idx][1])\n",
    "        \n",
    "if __name__ == '__main__':\n",
    "    MRKmeans.run()"
   ]
  },
  {
   "cell_type": "markdown",
   "metadata": {},
   "source": [
    "iteration1:\n",
    "No handlers could be found for logger \"mrjob.runner\"\n",
    "0 [-3.344726378997624, 0.3375985510805811]\n",
    "1 [5.379067911319127, 0.1544680529517142]\n",
    "2 [0.24288276270220568, 5.350519186138142]\n",
    "\n",
    "\n",
    "iteration2:\n",
    "0 [-3.344726378997624, 0.3375985510805811]\n",
    "1 [5.379067911319127, 0.1544680529517142]\n",
    "2 [0.24288276270220568, 5.350519186138142]\n",
    "\n",
    "\n",
    "iteration3:\n",
    "0 [-3.344726378997624, 0.3375985510805811]\n",
    "1 [5.379067911319127, 0.1544680529517142]\n",
    "2 [0.24288276270220568, 5.350519186138142]\n",
    "\n",
    "\n",
    "iteration4:\n",
    "0 [-3.344726378997624, 0.3375985510805811]\n",
    "1 [5.379067911319127, 0.1544680529517142]\n",
    "2 [0.24288276270220568, 5.350519186138142]\n",
    "\n",
    "\n",
    "iteration5:\n",
    "0 [-3.344726378997624, 0.3375985510805811]\n",
    "1 [5.379067911319127, 0.1544680529517142]\n",
    "2 [0.24288276270220568, 5.350519186138142]\n",
    "\n",
    "\n",
    "iteration6:\n",
    "0 [-3.344726378997624, 0.3375985510805811]\n",
    "1 [5.379067911319127, 0.1544680529517142]\n",
    "2 [0.24288276270220568, 5.350519186138142]\n",
    "\n",
    "\n",
    "iteration7:\n",
    "0 [-3.344726378997624, 0.3375985510805811]\n",
    "1 [5.379067911319127, 0.1544680529517142]\n",
    "2 [0.24288276270220568, 5.350519186138142]\n",
    "\n",
    "\n",
    "iteration8:\n",
    "0 [-3.344726378997624, 0.3375985510805811]\n",
    "1 [5.379067911319127, 0.1544680529517142]\n",
    "2 [0.24288276270220568, 5.350519186138142]\n",
    "\n",
    "\n",
    "iteration9:\n",
    "0 [-3.344726378997624, 0.3375985510805811]\n",
    "1 [5.379067911319127, 0.1544680529517142]\n",
    "2 [0.24288276270220568, 5.350519186138142]\n",
    "\n",
    "\n",
    "iteration10:\n",
    "0 [-3.344726378997624, 0.3375985510805811]\n",
    "1 [5.379067911319127, 0.1544680529517142]\n",
    "2 [0.24288276270220568, 5.350519186138142]\n",
    "\n",
    "\n",
    "Centroids\n",
    "\n",
    "[[-3.344726378997624, 0.3375985510805811], [5.379067911319127, 0.1544680529517142], [0.24288276270220568, 5.350519186138142]]"
   ]
  },
  {
   "cell_type": "markdown",
   "metadata": {},
   "source": [
    "# MT10"
   ]
  },
  {
   "cell_type": "markdown",
   "metadata": {},
   "source": [
    "**MT10. Which result below is the closest to the centroids you got after running your weighted K-means code for 10 iterations?**\n",
    "\n",
    "(a) (-4.0,0.0), (4.0,0.0), (6.0,6.0)<br>\n",
    "(b) (-4.5,0.0), (4.5,0.0), (0.0,4.5)<br>\n",
    "(c) (-5.5,0.0), (0.0,0.0), (3.0,3.0)<br>\n",
    "(d) (-4.5,0.0), (-4.0,0.0), (0.0,4.5)<br>\n",
    "\n",
    "**ANSWER: B looks closest.  No time to compute.**"
   ]
  },
  {
   "cell_type": "markdown",
   "metadata": {},
   "source": [
    "# MT11"
   ]
  },
  {
   "cell_type": "markdown",
   "metadata": {},
   "source": [
    "**MT11. Using the result of the previous question, which number below is the closest \n",
    "to the average weighted distance between each example and its assigned (closest) centroid?\n",
    "The average weighted distance is defined as **\n",
    "\n",
    "sum over i  (weighted_distance_i)     /  sum over i (weight_i)\n",
    "\n",
    "(a) 2.5<br>\n",
    "(b) 1.5<br>\n",
    "(c) 0.5<br>\n",
    "(d) 4.0<br>\n",
    "\n",
    "**ANSWER: B, ran out of time**"
   ]
  },
  {
   "cell_type": "markdown",
   "metadata": {},
   "source": [
    "**MT12. Which of the following statements are true? Select all that apply. **<br>\n",
    "a)\t  Since K-Means is an unsupervised learning algorithm, it cannot overfit the data, and thus it is always better to have as large a number of clusters as is computationally feasible. <br>\n",
    "b)\t  The standard way of initializing K-means is setting μ1=⋯=μk to be equal to a vector of zeros. <br>\n",
    "c)\t  For some datasets, the \"right\" or \"correct\" value of K (the number of clusters) can be ambiguous, and hard even for a human expert looking carefully at the data to decide. <br>\n",
    "d)\t  A good way to initialize K-means is to select K (distinct) examples from the training set and set the cluster centroids equal to these selected examples. <br>\n",
    "\n",
    "**ANSWER: C and D are true. A and B are false**\n",
    "\n",
    "\n",
    "\n",
    "\n",
    "\n"
   ]
  },
  {
   "cell_type": "code",
   "execution_count": null,
   "metadata": {
    "collapsed": true
   },
   "outputs": [],
   "source": []
  }
 ],
 "metadata": {
  "kernelspec": {
   "display_name": "Python 3",
   "language": "python",
   "name": "python3"
  },
  "language_info": {
   "codemirror_mode": {
    "name": "ipython",
    "version": 3
   },
   "file_extension": ".py",
   "mimetype": "text/x-python",
   "name": "python",
   "nbconvert_exporter": "python",
   "pygments_lexer": "ipython3",
   "version": "3.5.1"
  }
 },
 "nbformat": 4,
 "nbformat_minor": 0
}
